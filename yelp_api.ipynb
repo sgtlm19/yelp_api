{
 "cells": [
  {
   "cell_type": "code",
   "execution_count": 28,
   "id": "c4453b43",
   "metadata": {},
   "outputs": [],
   "source": [
    "import requests\n",
    "import json"
   ]
  },
  {
   "cell_type": "markdown",
   "id": "fb751432",
   "metadata": {},
   "source": [
    "#### Input your API key from your Yelp Developer Account ####"
   ]
  },
  {
   "cell_type": "code",
   "execution_count": 2,
   "id": "a8ca5257",
   "metadata": {},
   "outputs": [],
   "source": [
    "api_key = 'copy_your_yelp_api_key_here'\n",
    "headers = {'Authorization' : 'Bearer %s' % api_key}"
   ]
  },
  {
   "cell_type": "markdown",
   "id": "6082f3b5",
   "metadata": {},
   "source": [
    "#### Yelp has different API urls that can be used to get certain information about a business, we will use the businesses/matches url to see the anatomy of a yelp api response and how we can get certain information.  Below we define the url that we will use and the search parameters we are going to use.  I chose one of my favorite sushi places here in Las Vegas. ####"
   ]
  },
  {
   "cell_type": "code",
   "execution_count": 24,
   "id": "04e4daaf",
   "metadata": {},
   "outputs": [],
   "source": [
    "url = 'https://api.yelp.com/v3/businesses/matches'\n",
    "params = {'name' : 'Sushi Neko',\n",
    "          'address1' : '5115 W Spring Mountain Rd',\n",
    "          'city' : 'Las Vegas',\n",
    "          'state' : 'NV',\n",
    "         'country' : 'US'}"
   ]
  },
  {
   "cell_type": "markdown",
   "id": "39020a8f",
   "metadata": {},
   "source": [
    "#### Below we will use the requests library and the requests class and the .get method to retrieve a response from the Yelp API. ####"
   ]
  },
  {
   "cell_type": "code",
   "execution_count": 25,
   "id": "67adc654",
   "metadata": {},
   "outputs": [],
   "source": [
    "req = requests.get(url, params=params, headers=headers)"
   ]
  },
  {
   "cell_type": "markdown",
   "id": "afcdae7d",
   "metadata": {},
   "source": [
    "#### Below we load the response and get the text by calling .text method and we use json.loads to parse the Yelp API response ####"
   ]
  },
  {
   "cell_type": "code",
   "execution_count": 26,
   "id": "36284398",
   "metadata": {},
   "outputs": [],
   "source": [
    "parsed = json.loads(req.text)"
   ]
  },
  {
   "cell_type": "markdown",
   "id": "ef31a698",
   "metadata": {},
   "source": [
    "#### This is what the Yelp API response looks like in json format ###"
   ]
  },
  {
   "cell_type": "code",
   "execution_count": 27,
   "id": "c059f19c",
   "metadata": {},
   "outputs": [
    {
     "data": {
      "text/plain": [
       "{'businesses': [{'id': 'ghVhlFpNhfBwWDFGSlt2JA',\n",
       "   'alias': 'sushi-neko-las-vegas',\n",
       "   'name': 'Sushi Neko',\n",
       "   'coordinates': {'latitude': 36.1255080044462,\n",
       "    'longitude': -115.21169684937254},\n",
       "   'location': {'address1': '5115 W Spring Mountain Rd',\n",
       "    'address2': 'Ste 117',\n",
       "    'address3': '',\n",
       "    'city': 'Las Vegas',\n",
       "    'zip_code': '89146',\n",
       "    'country': 'US',\n",
       "    'state': 'NV',\n",
       "    'display_address': ['5115 W Spring Mountain Rd',\n",
       "     'Ste 117',\n",
       "     'Las Vegas, NV 89146']},\n",
       "   'phone': '+17022474241',\n",
       "   'display_phone': '(702) 247-4241'}]}"
      ]
     },
     "execution_count": 27,
     "metadata": {},
     "output_type": "execute_result"
    }
   ],
   "source": [
    "parsed"
   ]
  },
  {
   "cell_type": "markdown",
   "id": "09be1c14",
   "metadata": {},
   "source": [
    "#### The response is actually a list of dictionaries, we will put the 'businesses' list into an object and then we call the first and only business by calling index of zero and the specific type of information you want form the business. Because it is in json format, the way you can access certain information within the response is by using dictionary methods, specifically brackets.  If you want to access the name, location, and phone number you would use brackets.  ####"
   ]
  },
  {
   "cell_type": "code",
   "execution_count": 46,
   "id": "122eeae4",
   "metadata": {},
   "outputs": [],
   "source": [
    "businesses = parsed['businesses']"
   ]
  },
  {
   "cell_type": "code",
   "execution_count": 47,
   "id": "ab974afc",
   "metadata": {},
   "outputs": [
    {
     "data": {
      "text/plain": [
       "'Sushi Neko'"
      ]
     },
     "execution_count": 47,
     "metadata": {},
     "output_type": "execute_result"
    }
   ],
   "source": [
    "businesses[0]['name']"
   ]
  },
  {
   "cell_type": "code",
   "execution_count": 48,
   "id": "89d2de3d",
   "metadata": {},
   "outputs": [
    {
     "data": {
      "text/plain": [
       "{'address1': '5115 W Spring Mountain Rd',\n",
       " 'address2': 'Ste 117',\n",
       " 'address3': '',\n",
       " 'city': 'Las Vegas',\n",
       " 'zip_code': '89146',\n",
       " 'country': 'US',\n",
       " 'state': 'NV',\n",
       " 'display_address': ['5115 W Spring Mountain Rd',\n",
       "  'Ste 117',\n",
       "  'Las Vegas, NV 89146']}"
      ]
     },
     "execution_count": 48,
     "metadata": {},
     "output_type": "execute_result"
    }
   ],
   "source": [
    "businesses[0]['location']"
   ]
  },
  {
   "cell_type": "code",
   "execution_count": 49,
   "id": "6b1570a9",
   "metadata": {},
   "outputs": [
    {
     "data": {
      "text/plain": [
       "'(702) 247-4241'"
      ]
     },
     "execution_count": 49,
     "metadata": {},
     "output_type": "execute_result"
    }
   ],
   "source": [
    "businesses[0]['display_phone']"
   ]
  },
  {
   "cell_type": "markdown",
   "id": "1e806180",
   "metadata": {},
   "source": [
    "#### Let's say we want to get all the names and phone numbers of restaurants in a certain city we would have to use a different Yelp API url, we would have to use businesses/search url.  Also we would enter different search parameters.  Here we will get all the names and phone numbers of restaurants in Henderson, NV and in put it in a pandas dataframe. We add a new url, search parameters, and we call the Yelp API again using requests.get ####"
   ]
  },
  {
   "cell_type": "code",
   "execution_count": 50,
   "id": "01c8a5c3",
   "metadata": {},
   "outputs": [],
   "source": [
    "url = 'https://api.yelp.com/v3/businesses/search'\n",
    "params = {'term' : 'restaurants',\n",
    "          'location' : 'Henderson'}"
   ]
  },
  {
   "cell_type": "code",
   "execution_count": 51,
   "id": "e787e3f6",
   "metadata": {},
   "outputs": [],
   "source": [
    "req = requests.get(url, params=params, headers=headers)"
   ]
  },
  {
   "cell_type": "code",
   "execution_count": 53,
   "id": "9706639d",
   "metadata": {},
   "outputs": [],
   "source": [
    "parsed = json.loads(req.text)\n",
    "businesses = parsed['businesses']"
   ]
  },
  {
   "cell_type": "markdown",
   "id": "1044f615",
   "metadata": {},
   "source": [
    "#### To create the dataframe I will create an empy list, create a for loop and then  iteravely append the list with the restaurant name and phone number.  Then I convert that list into a pandas dataframe. ####"
   ]
  },
  {
   "cell_type": "code",
   "execution_count": 54,
   "id": "4a4f0e46",
   "metadata": {},
   "outputs": [],
   "source": [
    "restaurant_name_phone = []\n",
    "\n",
    "for business in businesses:\n",
    "    restaurant_name_phone.append(\n",
    "        {\n",
    "            'restaurant_name' : business['name'],\n",
    "            'restaurant_phone' : business['display_phone']\n",
    "        }\n",
    "    )"
   ]
  },
  {
   "cell_type": "code",
   "execution_count": 56,
   "id": "f2425966",
   "metadata": {},
   "outputs": [],
   "source": [
    "import pandas as pd"
   ]
  },
  {
   "cell_type": "code",
   "execution_count": 57,
   "id": "32bfea56",
   "metadata": {},
   "outputs": [],
   "source": [
    "restaurant_df = pd.DataFrame(restaurant_name_phone)"
   ]
  },
  {
   "cell_type": "code",
   "execution_count": 58,
   "id": "84edc40f",
   "metadata": {},
   "outputs": [
    {
     "data": {
      "text/html": [
       "<div>\n",
       "<style scoped>\n",
       "    .dataframe tbody tr th:only-of-type {\n",
       "        vertical-align: middle;\n",
       "    }\n",
       "\n",
       "    .dataframe tbody tr th {\n",
       "        vertical-align: top;\n",
       "    }\n",
       "\n",
       "    .dataframe thead th {\n",
       "        text-align: right;\n",
       "    }\n",
       "</style>\n",
       "<table border=\"1\" class=\"dataframe\">\n",
       "  <thead>\n",
       "    <tr style=\"text-align: right;\">\n",
       "      <th></th>\n",
       "      <th>restaurant_name</th>\n",
       "      <th>restaurant_phone</th>\n",
       "    </tr>\n",
       "  </thead>\n",
       "  <tbody>\n",
       "    <tr>\n",
       "      <th>0</th>\n",
       "      <td>Boom Bang Fine Foods &amp; Cocktails</td>\n",
       "      <td>(702) 478-6200</td>\n",
       "    </tr>\n",
       "    <tr>\n",
       "      <th>1</th>\n",
       "      <td>Juan's Flaming Fajitas &amp; Cantina - Henderson</td>\n",
       "      <td>(702) 476-4647</td>\n",
       "    </tr>\n",
       "    <tr>\n",
       "      <th>2</th>\n",
       "      <td>Houston's Hot Chicken</td>\n",
       "      <td>(702) 745-5368</td>\n",
       "    </tr>\n",
       "    <tr>\n",
       "      <th>3</th>\n",
       "      <td>Served Global Dining</td>\n",
       "      <td>(702) 272-0839</td>\n",
       "    </tr>\n",
       "    <tr>\n",
       "      <th>4</th>\n",
       "      <td>Smoke &amp; Fire</td>\n",
       "      <td>(725) 214-5398</td>\n",
       "    </tr>\n",
       "  </tbody>\n",
       "</table>\n",
       "</div>"
      ],
      "text/plain": [
       "                                restaurant_name restaurant_phone\n",
       "0              Boom Bang Fine Foods & Cocktails   (702) 478-6200\n",
       "1  Juan's Flaming Fajitas & Cantina - Henderson   (702) 476-4647\n",
       "2                         Houston's Hot Chicken   (702) 745-5368\n",
       "3                          Served Global Dining   (702) 272-0839\n",
       "4                                  Smoke & Fire   (725) 214-5398"
      ]
     },
     "execution_count": 58,
     "metadata": {},
     "output_type": "execute_result"
    }
   ],
   "source": [
    "restaurant_df.head()"
   ]
  },
  {
   "cell_type": "code",
   "execution_count": null,
   "id": "c6897207",
   "metadata": {},
   "outputs": [],
   "source": []
  }
 ],
 "metadata": {
  "kernelspec": {
   "display_name": "conda_python3",
   "language": "python",
   "name": "conda_python3"
  },
  "language_info": {
   "codemirror_mode": {
    "name": "ipython",
    "version": 3
   },
   "file_extension": ".py",
   "mimetype": "text/x-python",
   "name": "python",
   "nbconvert_exporter": "python",
   "pygments_lexer": "ipython3",
   "version": "3.6.13"
  }
 },
 "nbformat": 4,
 "nbformat_minor": 5
}
